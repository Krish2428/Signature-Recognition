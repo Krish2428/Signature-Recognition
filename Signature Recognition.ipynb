{
 "cells": [
  {
   "cell_type": "code",
   "execution_count": 1,
   "id": "244b1bec",
   "metadata": {},
   "outputs": [
    {
     "name": "stdout",
     "output_type": "stream",
     "text": [
      "\u001b[34mTest\u001b[m\u001b[m        \u001b[34mTrain\u001b[m\u001b[m       prateek.jpg\r\n"
     ]
    }
   ],
   "source": [
    "!ls archive-3\n"
   ]
  },
  {
   "cell_type": "code",
   "execution_count": 2,
   "id": "76b6dc34",
   "metadata": {},
   "outputs": [
    {
     "name": "stderr",
     "output_type": "stream",
     "text": [
      "/Users/krishsheth/opt/anaconda3/envs/myenv/lib/python3.8/site-packages/scipy/__init__.py:146: UserWarning: A NumPy version >=1.16.5 and <1.23.0 is required for this version of SciPy (detected version 1.23.1\n",
      "  warnings.warn(f\"A NumPy version >={np_minversion} and <{np_maxversion}\"\n"
     ]
    }
   ],
   "source": [
    "import tensorflow as tf\n",
    "from tensorflow.keras.preprocessing.image import ImageDataGenerator\n",
    "from tensorflow import keras"
   ]
  },
  {
   "cell_type": "code",
   "execution_count": 3,
   "id": "ab757acb",
   "metadata": {
    "scrolled": true
   },
   "outputs": [
    {
     "name": "stdout",
     "output_type": "stream",
     "text": [
      "there are 2 directories and 2 images in archive-3\n",
      "there are 27 directories and 1 images in archive-3/Test\n",
      "there are 0 directories and 1 images in archive-3/Test/03\n",
      "there are 0 directories and 1 images in archive-3/Test/04\n",
      "there are 0 directories and 1 images in archive-3/Test/05\n",
      "there are 0 directories and 1 images in archive-3/Test/02\n",
      "there are 0 directories and 1 images in archive-3/Test/20\n",
      "there are 0 directories and 1 images in archive-3/Test/18\n",
      "there are 0 directories and 1 images in archive-3/Test/27\n",
      "there are 0 directories and 1 images in archive-3/Test/11\n",
      "there are 0 directories and 1 images in archive-3/Test/16\n",
      "there are 0 directories and 1 images in archive-3/Test/17\n",
      "there are 0 directories and 1 images in archive-3/Test/10\n",
      "there are 0 directories and 1 images in archive-3/Test/19\n",
      "there are 0 directories and 1 images in archive-3/Test/26\n",
      "there are 0 directories and 1 images in archive-3/Test/21\n",
      "there are 0 directories and 1 images in archive-3/Test/07\n",
      "there are 0 directories and 1 images in archive-3/Test/09\n",
      "there are 0 directories and 1 images in archive-3/Test/08\n",
      "there are 0 directories and 1 images in archive-3/Test/01\n",
      "there are 0 directories and 1 images in archive-3/Test/06\n",
      "there are 0 directories and 1 images in archive-3/Test/24\n",
      "there are 0 directories and 1 images in archive-3/Test/23\n",
      "there are 0 directories and 1 images in archive-3/Test/15\n",
      "there are 0 directories and 2 images in archive-3/Test/12\n",
      "there are 0 directories and 1 images in archive-3/Test/13\n",
      "there are 0 directories and 2 images in archive-3/Test/14\n",
      "there are 0 directories and 1 images in archive-3/Test/22\n",
      "there are 0 directories and 1 images in archive-3/Test/25\n",
      "there are 27 directories and 1 images in archive-3/Train\n",
      "there are 0 directories and 99 images in archive-3/Train/03\n",
      "there are 0 directories and 97 images in archive-3/Train/04\n",
      "there are 0 directories and 98 images in archive-3/Train/05\n",
      "there are 0 directories and 79 images in archive-3/Train/02\n",
      "there are 0 directories and 79 images in archive-3/Train/20\n",
      "there are 0 directories and 98 images in archive-3/Train/18\n",
      "there are 0 directories and 79 images in archive-3/Train/27\n",
      "there are 0 directories and 78 images in archive-3/Train/11\n",
      "there are 0 directories and 85 images in archive-3/Train/16\n",
      "there are 0 directories and 78 images in archive-3/Train/17\n",
      "there are 0 directories and 77 images in archive-3/Train/10\n",
      "there are 0 directories and 79 images in archive-3/Train/19\n",
      "there are 0 directories and 79 images in archive-3/Train/26\n",
      "there are 0 directories and 80 images in archive-3/Train/21\n",
      "there are 0 directories and 79 images in archive-3/Train/07\n",
      "there are 0 directories and 79 images in archive-3/Train/09\n",
      "there are 0 directories and 79 images in archive-3/Train/08\n",
      "there are 0 directories and 79 images in archive-3/Train/01\n",
      "there are 0 directories and 99 images in archive-3/Train/06\n",
      "there are 0 directories and 79 images in archive-3/Train/24\n",
      "there are 0 directories and 79 images in archive-3/Train/23\n",
      "there are 0 directories and 79 images in archive-3/Train/15\n",
      "there are 0 directories and 78 images in archive-3/Train/12\n",
      "there are 0 directories and 72 images in archive-3/Train/13\n",
      "there are 0 directories and 98 images in archive-3/Train/14\n",
      "there are 0 directories and 79 images in archive-3/Train/22\n",
      "there are 0 directories and 99 images in archive-3/Train/25\n"
     ]
    }
   ],
   "source": [
    "import os \n",
    "\n",
    "\n",
    "# Walk through files \n",
    "\n",
    "for dirpath,dirnames,filenames in os.walk(\"archive-3\"):\n",
    "    print(f\"there are {len(dirnames)} directories and {len(filenames)} images in {dirpath}\")"
   ]
  },
  {
   "cell_type": "code",
   "execution_count": 4,
   "id": "ec7d4e60",
   "metadata": {},
   "outputs": [
    {
     "data": {
      "text/plain": [
       "79"
      ]
     },
     "execution_count": 4,
     "metadata": {},
     "output_type": "execute_result"
    }
   ],
   "source": [
    "num_signature=len(os.listdir(\"archive-3/Train/01\"))\n",
    "num_signature"
   ]
  },
  {
   "cell_type": "markdown",
   "id": "100eb288",
   "metadata": {},
   "source": [
    "## Getting class names "
   ]
  },
  {
   "cell_type": "code",
   "execution_count": 5,
   "id": "9ff04886",
   "metadata": {},
   "outputs": [],
   "source": [
    "import pathlib\n",
    "import numpy as np\n",
    "data_dir=pathlib.Path(\"archive-3/Train\")\n",
    "class_names=np.array(sorted([item.name for item in data_dir.glob(\"*\")]))"
   ]
  },
  {
   "cell_type": "code",
   "execution_count": 6,
   "id": "9dbf5e38",
   "metadata": {},
   "outputs": [
    {
     "name": "stdout",
     "output_type": "stream",
     "text": [
      "['01' '02' '03' '04' '05' '06' '07' '08' '09' '10' '11' '12' '13' '14'\n",
      " '15' '16' '17' '18' '19' '20' '21' '22' '23' '24' '25' '26' '27']\n"
     ]
    }
   ],
   "source": [
    "print(class_names[1:])"
   ]
  },
  {
   "cell_type": "code",
   "execution_count": 7,
   "id": "1c775751",
   "metadata": {},
   "outputs": [
    {
     "data": {
      "text/plain": [
       "array(['01', '02', '03', '04', '05', '06', '07', '08', '09', '10', '11',\n",
       "       '12', '13', '14', '15', '16', '17', '18', '19', '20', '21', '22',\n",
       "       '23', '24', '25', '26', '27'], dtype='<U9')"
      ]
     },
     "execution_count": 7,
     "metadata": {},
     "output_type": "execute_result"
    }
   ],
   "source": [
    "class_names=class_names[1:]\n",
    "class_names"
   ]
  },
  {
   "cell_type": "code",
   "execution_count": 8,
   "id": "d6346238",
   "metadata": {},
   "outputs": [],
   "source": [
    "## Visualize the images \n",
    "import matplotlib.pyplot as plt \n",
    "import matplotlib.image as mpimg\n",
    "import random"
   ]
  },
  {
   "cell_type": "code",
   "execution_count": 9,
   "id": "b3bdf43d",
   "metadata": {},
   "outputs": [],
   "source": [
    "def view_random_image(target_dir,target_class):\n",
    "    target_folder=target_dir+target_class\n",
    "    \n",
    "    # Get random path\n",
    "    random_image=random.sample(os.listdir(target_folder),1)\n",
    "    # Read the image and plot\n",
    "    img=mpimg.imread(target_folder+ \"/\" + random_image[0])\n",
    "    plt.imshow(img)\n",
    "    plt.title(target_class)\n",
    "    plt.axis(\"off\")\n",
    "    \n",
    "    print(f\"Image shape:{img.shape}\")# Show the image shape\n",
    "    \n",
    "    return img"
   ]
  },
  {
   "cell_type": "code",
   "execution_count": 10,
   "id": "1cdd3b66",
   "metadata": {},
   "outputs": [
    {
     "name": "stdout",
     "output_type": "stream",
     "text": [
      "Image shape:(112, 186, 3)\n"
     ]
    },
    {
     "data": {
      "image/png": "[encoded data removed]",
      "text/plain": [
       "<Figure size 432x288 with 1 Axes>"
      ]
     },
     "metadata": {
      "needs_background": "light"
     },
     "output_type": "display_data"
    }
   ],
   "source": [
    "\n",
    "img=view_random_image(target_dir=\"archive-3/Train/\",\n",
    "                     target_class=\"03\")"
   ]
  },
  {
   "cell_type": "markdown",
   "id": "9b4cfaf8",
   "metadata": {},
   "source": [
    "## Pre-Processing images"
   ]
  },
  {
   "cell_type": "code",
   "execution_count": 11,
   "id": "28194384",
   "metadata": {},
   "outputs": [],
   "source": [
    "# Changing the image shapes to the desired shapes \n",
    "tf.random.set_seed(42)"
   ]
  },
  {
   "cell_type": "code",
   "execution_count": 12,
   "id": "c00c5369",
   "metadata": {},
   "outputs": [],
   "source": [
    "train_dir=\"archive-3/Train\"\n",
    "test_dir=\"archive-3/Test\""
   ]
  },
  {
   "cell_type": "code",
   "execution_count": 13,
   "id": "c44cfc0d",
   "metadata": {},
   "outputs": [],
   "source": [
    "def image_generator():\n",
    "\n",
    "    train_datagen = ImageDataGenerator(rescale=1./255)\n",
    "    test_datagen=ImageDataGenerator(rescale=1./255)\n",
    "\n",
    "    train_generator = train_datagen.flow_from_directory(directory=train_dir,\n",
    "                                                        target_size=(224, 224),\n",
    "                                                        batch_size=32,\n",
    "                                                        seed=42,\n",
    "                                                        class_mode='categorical')\n",
    "    test_generator=test_datagen.flow_from_directory(directory=test_dir,\n",
    "                                                   target_size=(224,224),\n",
    "                                                   seed=42,\n",
    "                                                   class_mode=\"categorical\")\n",
    "\n",
    "\n",
    "    return train_generator,test_generator"
   ]
  },
  {
   "cell_type": "code",
   "execution_count": 14,
   "id": "cbdbb235",
   "metadata": {},
   "outputs": [
    {
     "name": "stdout",
     "output_type": "stream",
     "text": [
      "Found 2263 images belonging to 27 classes.\n",
      "Found 29 images belonging to 27 classes.\n"
     ]
    }
   ],
   "source": [
    "img_gen=image_generator()"
   ]
  },
  {
   "cell_type": "code",
   "execution_count": 15,
   "id": "a2eaec1f",
   "metadata": {},
   "outputs": [
    {
     "name": "stdout",
     "output_type": "stream",
     "text": [
      "Found 2263 images belonging to 27 classes.\n",
      "Found 29 images belonging to 27 classes.\n"
     ]
    }
   ],
   "source": [
    "# Preprocess the data \n",
    "train_datagen=ImageDataGenerator(rescale=1./255)\n",
    "test_datagen=ImageDataGenerator(rescale=1./255)\n",
    "\n",
    "# Set up path to data directories\n",
    "train_dir=\"archive-3/Train\"\n",
    "test_dir=\"archive-3/Test\"\n",
    "\n",
    "# Import images and turn to batches \n",
    "train_data = train_datagen.flow_from_directory(directory=train_dir,\n",
    "                                              batch_size=32,\n",
    "                                              target_size=(224,224),\n",
    "                                              seed=42,\n",
    "                                              class_mode=\"categorical\")\n",
    "test_data=test_datagen.flow_from_directory(directory=test_dir,\n",
    "                                          \n",
    "                                          target_size=(224,224),\n",
    "                                          seed=42,\n",
    "                                          class_mode=\"categorical\")"
   ]
  },
  {
   "cell_type": "code",
   "execution_count": 16,
   "id": "cc131ba5",
   "metadata": {},
   "outputs": [
    {
     "data": {
      "text/plain": [
       "71"
      ]
     },
     "execution_count": 16,
     "metadata": {},
     "output_type": "execute_result"
    }
   ],
   "source": [
    "len(img_gen[0])"
   ]
  },
  {
   "cell_type": "code",
   "execution_count": 17,
   "id": "8a0b80c8",
   "metadata": {},
   "outputs": [
    {
     "data": {
      "text/plain": [
       "1"
      ]
     },
     "execution_count": 17,
     "metadata": {},
     "output_type": "execute_result"
    }
   ],
   "source": [
    "len(img_gen[1])"
   ]
  },
  {
   "cell_type": "markdown",
   "id": "e87b5022",
   "metadata": {},
   "source": [
    "## Build and train model (Deep learning)"
   ]
  },
  {
   "cell_type": "code",
   "execution_count": 18,
   "id": "691477b4",
   "metadata": {
    "scrolled": true
   },
   "outputs": [
    {
     "name": "stderr",
     "output_type": "stream",
     "text": [
      "2023-03-20 21:34:12.596349: I tensorflow/core/platform/cpu_feature_guard.cc:193] This TensorFlow binary is optimized with oneAPI Deep Neural Network Library (oneDNN) to use the following CPU instructions in performance-critical operations:  AVX2 FMA\n",
      "To enable them in other operations, rebuild TensorFlow with the appropriate compiler flags.\n"
     ]
    }
   ],
   "source": [
    "model_1 = tf.keras.models.Sequential([\n",
    "  tf.keras.layers.Conv2D(filters=10, \n",
    "                         kernel_size=3, # can also be (3, 3)\n",
    "                         activation=\"relu\", \n",
    "                         input_shape=(224, 224, 3)), # first layer specifies input shape (height, width, colour channels)\n",
    "  tf.keras.layers.Conv2D(10, 3, activation=\"relu\"),\n",
    "  tf.keras.layers.MaxPool2D(pool_size=2, # pool_size can also be (2, 2)\n",
    "                            padding=\"valid\"), # padding can also be 'same'\n",
    "  tf.keras.layers.Conv2D(10, 3, activation=\"relu\"),\n",
    "  tf.keras.layers.Conv2D(10, 3, activation=\"relu\"), # activation='relu' == tf.keras.layers.Activations(tf.nn.relu)\n",
    "  tf.keras.layers.MaxPool2D(2),\n",
    "  tf.keras.layers.Flatten(),\n",
    "  tf.keras.layers.Dense(27, activation=\"softmax\") # multiclass activation output\n",
    "])\n"
   ]
  },
  {
   "cell_type": "code",
   "execution_count": 19,
   "id": "c4010b59",
   "metadata": {},
   "outputs": [],
   "source": [
    "model_1.compile(loss=\"categorical_crossentropy\",\n",
    "               optimizer=tf.keras.optimizers.Adam(),\n",
    "               metrics=[\"accuracy\"])\n"
   ]
  },
  {
   "cell_type": "code",
   "execution_count": 20,
   "id": "e4860525",
   "metadata": {},
   "outputs": [
    {
     "name": "stdout",
     "output_type": "stream",
     "text": [
      "Epoch 1/3\n",
      "71/71 [==============================] - 44s 606ms/step - loss: 1.7238 - accuracy: 0.5444 - val_loss: 0.7460 - val_accuracy: 0.8276\n",
      "Epoch 2/3\n",
      "71/71 [==============================] - 47s 669ms/step - loss: 0.2820 - accuracy: 0.9236 - val_loss: 0.5889 - val_accuracy: 0.8276\n",
      "Epoch 3/3\n",
      "71/71 [==============================] - 47s 659ms/step - loss: 0.0443 - accuracy: 0.9912 - val_loss: 0.6281 - val_accuracy: 0.7931\n"
     ]
    }
   ],
   "source": [
    "history=model_1.fit(train_data,\n",
    "                    epochs=3,\n",
    "                   validation_data=test_data)"
   ]
  },
  {
   "cell_type": "code",
   "execution_count": 21,
   "id": "d2c8967a",
   "metadata": {},
   "outputs": [
    {
     "name": "stderr",
     "output_type": "stream",
     "text": [
      "WARNING:absl:Found untraced functions such as _jit_compiled_convolution_op, _jit_compiled_convolution_op, _jit_compiled_convolution_op, _jit_compiled_convolution_op while saving (showing 4 of 4). These functions will not be directly callable after loading.\n"
     ]
    },
    {
     "name": "stdout",
     "output_type": "stream",
     "text": [
      "INFO:tensorflow:Assets written to: /Users/krishsheth/Desktop/projects/Signature_recognition/Saved models/assets\n"
     ]
    },
    {
     "name": "stderr",
     "output_type": "stream",
     "text": [
      "INFO:tensorflow:Assets written to: /Users/krishsheth/Desktop/projects/Signature_recognition/Saved models/assets\n"
     ]
    }
   ],
   "source": [
    "model_1.save(\"/Users/krishsheth/Desktop/projects/Signature_recognition/Saved models/\")\n",
    "del model_1"
   ]
  },
  {
   "cell_type": "markdown",
   "id": "1dd99539",
   "metadata": {},
   "source": [
    "## Plot Curves of accuracy and loss with Epochs"
   ]
  },
  {
   "cell_type": "code",
   "execution_count": 22,
   "id": "492dbfeb",
   "metadata": {},
   "outputs": [],
   "source": [
    "def plot_loss_curves(history):\n",
    "  \"\"\"\n",
    "  Returns separate loss curves for training and validation metrics.\n",
    "  \"\"\" \n",
    "  loss = history.history['loss']\n",
    "\n",
    "\n",
    "  accuracy = history.history['accuracy']\n",
    "\n",
    "\n",
    "  epochs = range(len(history.history['loss']))\n",
    "\n",
    "  # Plot loss\n",
    "  plt.plot(epochs, loss, label='training_loss')\n",
    " \n",
    "  plt.title('Loss')\n",
    "  plt.xlabel('Epochs')\n",
    "  plt.legend()\n",
    "\n",
    "  # Plot accuracy\n",
    "  plt.figure()\n",
    "  plt.plot(epochs, accuracy, label='training_accuracy')\n",
    "  \n",
    "  plt.title('Accuracy')\n",
    "  plt.xlabel('Epochs')\n",
    "  plt.legend();\n",
    "     "
   ]
  },
  {
   "cell_type": "code",
   "execution_count": 23,
   "id": "d737ded5",
   "metadata": {},
   "outputs": [
    {
     "data": {
      "image/png": "[encoded data removed]",
      "text/plain": [
       "<Figure size 432x288 with 1 Axes>"
      ]
     },
     "metadata": {
      "needs_background": "light"
     },
     "output_type": "display_data"
    },
    {
     "data": {
      "image/png": "[encoded data removed]",
      "text/plain": [
       "<Figure size 432x288 with 1 Axes>"
      ]
     },
     "metadata": {
      "needs_background": "light"
     },
     "output_type": "display_data"
    }
   ],
   "source": [
    "plot_loss_curves(history)"
   ]
  },
  {
   "cell_type": "code",
   "execution_count": 24,
   "id": "338f2e68",
   "metadata": {},
   "outputs": [],
   "source": [
    "model_1 = keras.models.load_model(\"/Users/krishsheth/Desktop/projects/Signature_recognition/Saved models/\")"
   ]
  },
  {
   "cell_type": "code",
   "execution_count": 25,
   "id": "16537b78",
   "metadata": {},
   "outputs": [
    {
     "name": "stdout",
     "output_type": "stream",
     "text": [
      "Model: \"sequential\"\n",
      "_________________________________________________________________\n",
      " Layer (type)                Output Shape              Param #   \n",
      "=================================================================\n",
      " conv2d (Conv2D)             (None, 222, 222, 10)      280       \n",
      "                                                                 \n",
      " conv2d_1 (Conv2D)           (None, 220, 220, 10)      910       \n",
      "                                                                 \n",
      " max_pooling2d (MaxPooling2D  (None, 110, 110, 10)     0         \n",
      " )                                                               \n",
      "                                                                 \n",
      " conv2d_2 (Conv2D)           (None, 108, 108, 10)      910       \n",
      "                                                                 \n",
      " conv2d_3 (Conv2D)           (None, 106, 106, 10)      910       \n",
      "                                                                 \n",
      " max_pooling2d_1 (MaxPooling  (None, 53, 53, 10)       0         \n",
      " 2D)                                                             \n",
      "                                                                 \n",
      " flatten (Flatten)           (None, 28090)             0         \n",
      "                                                                 \n",
      " dense (Dense)               (None, 27)                758457    \n",
      "                                                                 \n",
      "=================================================================\n",
      "Total params: 761,467\n",
      "Trainable params: 761,467\n",
      "Non-trainable params: 0\n",
      "_________________________________________________________________\n"
     ]
    }
   ],
   "source": [
    "model_1.summary()"
   ]
  },
  {
   "cell_type": "code",
   "execution_count": 26,
   "id": "a7a85541",
   "metadata": {},
   "outputs": [
    {
     "name": "stdout",
     "output_type": "stream",
     "text": [
      "Image shape:(210, 242, 3)\n"
     ]
    },
    {
     "data": {
      "image/png": "[encoded data removed]",
      "text/plain": [
       "<Figure size 432x288 with 1 Axes>"
      ]
     },
     "metadata": {
      "needs_background": "light"
     },
     "output_type": "display_data"
    }
   ],
   "source": [
    "img_custom=view_random_image(target_dir=\"archive-3/Test/\",\n",
    "                     target_class=\"10\")"
   ]
  },
  {
   "cell_type": "code",
   "execution_count": 27,
   "id": "eed1d95d",
   "metadata": {},
   "outputs": [],
   "source": [
    "img_custom=tf.image.resize(img_custom,size=(224,224))"
   ]
  },
  {
   "cell_type": "code",
   "execution_count": 28,
   "id": "ae11ae32",
   "metadata": {},
   "outputs": [
    {
     "name": "stdout",
     "output_type": "stream",
     "text": [
      "Shape before new dimension: (224, 224, 3)\n",
      "Shape after new dimension: (1, 224, 224, 3)\n"
     ]
    }
   ],
   "source": [
    "print(f\"Shape before new dimension: {img_custom.shape}\")\n",
    "img_custom = tf.expand_dims(img_custom, axis=0)\n",
    "print(f\"Shape after new dimension: {img_custom.shape}\")\n"
   ]
  },
  {
   "cell_type": "code",
   "execution_count": 29,
   "id": "37bed8ac",
   "metadata": {},
   "outputs": [
    {
     "name": "stdout",
     "output_type": "stream",
     "text": [
      "1/1 [==============================] - 0s 100ms/step\n"
     ]
    }
   ],
   "source": [
    "pred = model_1.predict(img_custom)\n",
    "\n",
    "pred=pred.squeeze()\n"
   ]
  },
  {
   "cell_type": "code",
   "execution_count": 30,
   "id": "69232ba9",
   "metadata": {},
   "outputs": [
    {
     "data": {
      "text/plain": [
       "(27,)"
      ]
     },
     "execution_count": 30,
     "metadata": {},
     "output_type": "execute_result"
    }
   ],
   "source": [
    "pred.shape"
   ]
  },
  {
   "cell_type": "code",
   "execution_count": 31,
   "id": "51aaf55d",
   "metadata": {},
   "outputs": [],
   "source": [
    "import pandas as pd\n"
   ]
  },
  {
   "cell_type": "code",
   "execution_count": 32,
   "id": "0f0d442b",
   "metadata": {},
   "outputs": [
    {
     "data": {
      "text/html": [
       "<div>\n",
       "<style scoped>\n",
       "    .dataframe tbody tr th:only-of-type {\n",
       "        vertical-align: middle;\n",
       "    }\n",
       "\n",
       "    .dataframe tbody tr th {\n",
       "        vertical-align: top;\n",
       "    }\n",
       "\n",
       "    .dataframe thead th {\n",
       "        text-align: right;\n",
       "    }\n",
       "</style>\n",
       "<table border=\"1\" class=\"dataframe\">\n",
       "  <thead>\n",
       "    <tr style=\"text-align: right;\">\n",
       "      <th></th>\n",
       "      <th>0</th>\n",
       "    </tr>\n",
       "  </thead>\n",
       "  <tbody>\n",
       "    <tr>\n",
       "      <th>0</th>\n",
       "      <td>0.0</td>\n",
       "    </tr>\n",
       "    <tr>\n",
       "      <th>1</th>\n",
       "      <td>0.0</td>\n",
       "    </tr>\n",
       "    <tr>\n",
       "      <th>2</th>\n",
       "      <td>0.0</td>\n",
       "    </tr>\n",
       "    <tr>\n",
       "      <th>3</th>\n",
       "      <td>0.0</td>\n",
       "    </tr>\n",
       "    <tr>\n",
       "      <th>4</th>\n",
       "      <td>0.0</td>\n",
       "    </tr>\n",
       "    <tr>\n",
       "      <th>5</th>\n",
       "      <td>0.0</td>\n",
       "    </tr>\n",
       "    <tr>\n",
       "      <th>6</th>\n",
       "      <td>0.0</td>\n",
       "    </tr>\n",
       "    <tr>\n",
       "      <th>7</th>\n",
       "      <td>0.0</td>\n",
       "    </tr>\n",
       "    <tr>\n",
       "      <th>8</th>\n",
       "      <td>0.0</td>\n",
       "    </tr>\n",
       "    <tr>\n",
       "      <th>9</th>\n",
       "      <td>1.0</td>\n",
       "    </tr>\n",
       "    <tr>\n",
       "      <th>10</th>\n",
       "      <td>0.0</td>\n",
       "    </tr>\n",
       "    <tr>\n",
       "      <th>11</th>\n",
       "      <td>0.0</td>\n",
       "    </tr>\n",
       "    <tr>\n",
       "      <th>12</th>\n",
       "      <td>0.0</td>\n",
       "    </tr>\n",
       "    <tr>\n",
       "      <th>13</th>\n",
       "      <td>0.0</td>\n",
       "    </tr>\n",
       "    <tr>\n",
       "      <th>14</th>\n",
       "      <td>0.0</td>\n",
       "    </tr>\n",
       "    <tr>\n",
       "      <th>15</th>\n",
       "      <td>0.0</td>\n",
       "    </tr>\n",
       "    <tr>\n",
       "      <th>16</th>\n",
       "      <td>0.0</td>\n",
       "    </tr>\n",
       "    <tr>\n",
       "      <th>17</th>\n",
       "      <td>0.0</td>\n",
       "    </tr>\n",
       "    <tr>\n",
       "      <th>18</th>\n",
       "      <td>0.0</td>\n",
       "    </tr>\n",
       "    <tr>\n",
       "      <th>19</th>\n",
       "      <td>0.0</td>\n",
       "    </tr>\n",
       "    <tr>\n",
       "      <th>20</th>\n",
       "      <td>0.0</td>\n",
       "    </tr>\n",
       "    <tr>\n",
       "      <th>21</th>\n",
       "      <td>0.0</td>\n",
       "    </tr>\n",
       "    <tr>\n",
       "      <th>22</th>\n",
       "      <td>0.0</td>\n",
       "    </tr>\n",
       "    <tr>\n",
       "      <th>23</th>\n",
       "      <td>0.0</td>\n",
       "    </tr>\n",
       "    <tr>\n",
       "      <th>24</th>\n",
       "      <td>0.0</td>\n",
       "    </tr>\n",
       "    <tr>\n",
       "      <th>25</th>\n",
       "      <td>0.0</td>\n",
       "    </tr>\n",
       "    <tr>\n",
       "      <th>26</th>\n",
       "      <td>0.0</td>\n",
       "    </tr>\n",
       "  </tbody>\n",
       "</table>\n",
       "</div>"
      ],
      "text/plain": [
       "      0\n",
       "0   0.0\n",
       "1   0.0\n",
       "2   0.0\n",
       "3   0.0\n",
       "4   0.0\n",
       "5   0.0\n",
       "6   0.0\n",
       "7   0.0\n",
       "8   0.0\n",
       "9   1.0\n",
       "10  0.0\n",
       "11  0.0\n",
       "12  0.0\n",
       "13  0.0\n",
       "14  0.0\n",
       "15  0.0\n",
       "16  0.0\n",
       "17  0.0\n",
       "18  0.0\n",
       "19  0.0\n",
       "20  0.0\n",
       "21  0.0\n",
       "22  0.0\n",
       "23  0.0\n",
       "24  0.0\n",
       "25  0.0\n",
       "26  0.0"
      ]
     },
     "execution_count": 32,
     "metadata": {},
     "output_type": "execute_result"
    }
   ],
   "source": [
    "df=pd.DataFrame(pred)\n",
    "df"
   ]
  },
  {
   "cell_type": "code",
   "execution_count": 33,
   "id": "cbee73a5",
   "metadata": {},
   "outputs": [
    {
     "name": "stdout",
     "output_type": "stream",
     "text": [
      "1.0\n",
      "10\n"
     ]
    }
   ],
   "source": [
    "for index,i in enumerate(pred):\n",
    "    if(i>=0.8):\n",
    "        print(i)\n",
    "        print(index+1)\n",
    "\n",
    "        "
   ]
  },
  {
   "cell_type": "code",
   "execution_count": 34,
   "id": "9cb132e3",
   "metadata": {},
   "outputs": [],
   "source": [
    "import matplotlib.pyplot as plt\n"
   ]
  },
  {
   "cell_type": "markdown",
   "id": "be96c7d1",
   "metadata": {},
   "source": [
    "## Image Segmentation "
   ]
  },
  {
   "cell_type": "code",
   "execution_count": 52,
   "id": "be2de2a0",
   "metadata": {},
   "outputs": [],
   "source": [
    "img_test=plt.imread(\"test.jpg\")"
   ]
  },
  {
   "cell_type": "code",
   "execution_count": 53,
   "id": "30239a5e",
   "metadata": {},
   "outputs": [
    {
     "data": {
      "text/plain": [
       "(224, 126, 3)"
      ]
     },
     "execution_count": 53,
     "metadata": {},
     "output_type": "execute_result"
    }
   ],
   "source": [
    "img_test.shape"
   ]
  },
  {
   "cell_type": "code",
   "execution_count": 54,
   "id": "588f3dbb",
   "metadata": {},
   "outputs": [],
   "source": [
    "img_test=tf.image.resize(img_test,size=(224,224))\n"
   ]
  },
  {
   "cell_type": "code",
   "execution_count": 55,
   "id": "035252c8",
   "metadata": {},
   "outputs": [
    {
     "data": {
      "text/plain": [
       "<matplotlib.image.AxesImage at 0x7fa62b1822b0>"
      ]
     },
     "execution_count": 55,
     "metadata": {},
     "output_type": "execute_result"
    },
    {
     "data": {
      "image/png": "[encoded data removed]",
      "text/plain": [
       "<Figure size 432x288 with 1 Axes>"
      ]
     },
     "metadata": {
      "needs_background": "light"
     },
     "output_type": "display_data"
    }
   ],
   "source": [
    "plt.imshow(img_test)"
   ]
  },
  {
   "cell_type": "code",
   "execution_count": 56,
   "id": "78ef51cb",
   "metadata": {},
   "outputs": [
    {
     "data": {
      "text/plain": [
       "TensorShape([224, 224, 3])"
      ]
     },
     "execution_count": 56,
     "metadata": {},
     "output_type": "execute_result"
    }
   ],
   "source": [
    "img_test.shape"
   ]
  },
  {
   "cell_type": "code",
   "execution_count": 57,
   "id": "7fe72db0",
   "metadata": {},
   "outputs": [
    {
     "name": "stdout",
     "output_type": "stream",
     "text": [
      "Shape before new dimension: (224, 224, 3)\n",
      "Shape after new dimension: (1, 224, 224, 3)\n"
     ]
    }
   ],
   "source": [
    "print(f\"Shape before new dimension: {img_test.shape}\")\n",
    "img_test = tf.expand_dims(img_test, axis=0)\n",
    "print(f\"Shape after new dimension: {img_test.shape}\")"
   ]
  },
  {
   "cell_type": "markdown",
   "id": "7a774067",
   "metadata": {},
   "source": [
    "## Prediction of Model \n",
    "- image of prateek (not present in database )"
   ]
  },
  {
   "cell_type": "code",
   "execution_count": 58,
   "id": "a2ff45f9",
   "metadata": {},
   "outputs": [
    {
     "name": "stdout",
     "output_type": "stream",
     "text": [
      "1/1 [==============================] - 0s 23ms/step\n"
     ]
    }
   ],
   "source": [
    "pred_test= model_1.predict(img_test)\n",
    "\n",
    "pred_test=pred_test.squeeze()"
   ]
  },
  {
   "cell_type": "code",
   "execution_count": 59,
   "id": "4be0c6de",
   "metadata": {},
   "outputs": [
    {
     "data": {
      "text/plain": [
       "array([4.7931289e-03, 1.2228876e-02, 8.4879780e-03, 3.2644227e-02,\n",
       "       3.1280376e-02, 1.4099066e-02, 2.0863411e-01, 1.2968846e-02,\n",
       "       2.2347700e-03, 1.2727429e-03, 1.4976472e-01, 4.1308114e-04,\n",
       "       3.5797443e-02, 2.7171263e-02, 3.2478385e-02, 1.7341083e-03,\n",
       "       1.2210415e-02, 2.3252276e-01, 1.0334605e-04, 2.6898396e-03,\n",
       "       3.1568522e-03, 2.7388548e-02, 2.1085046e-04, 2.0797148e-04,\n",
       "       7.2470903e-03, 1.3355750e-01, 4.7017853e-03], dtype=float32)"
      ]
     },
     "execution_count": 59,
     "metadata": {},
     "output_type": "execute_result"
    }
   ],
   "source": [
    "pred_test"
   ]
  },
  {
   "cell_type": "code",
   "execution_count": 60,
   "id": "7d96a07f",
   "metadata": {},
   "outputs": [
    {
     "data": {
      "text/html": [
       "<div>\n",
       "<style scoped>\n",
       "    .dataframe tbody tr th:only-of-type {\n",
       "        vertical-align: middle;\n",
       "    }\n",
       "\n",
       "    .dataframe tbody tr th {\n",
       "        vertical-align: top;\n",
       "    }\n",
       "\n",
       "    .dataframe thead th {\n",
       "        text-align: right;\n",
       "    }\n",
       "</style>\n",
       "<table border=\"1\" class=\"dataframe\">\n",
       "  <thead>\n",
       "    <tr style=\"text-align: right;\">\n",
       "      <th></th>\n",
       "      <th>0</th>\n",
       "    </tr>\n",
       "  </thead>\n",
       "  <tbody>\n",
       "    <tr>\n",
       "      <th>0</th>\n",
       "      <td>0.004793</td>\n",
       "    </tr>\n",
       "    <tr>\n",
       "      <th>1</th>\n",
       "      <td>0.012229</td>\n",
       "    </tr>\n",
       "    <tr>\n",
       "      <th>2</th>\n",
       "      <td>0.008488</td>\n",
       "    </tr>\n",
       "    <tr>\n",
       "      <th>3</th>\n",
       "      <td>0.032644</td>\n",
       "    </tr>\n",
       "    <tr>\n",
       "      <th>4</th>\n",
       "      <td>0.031280</td>\n",
       "    </tr>\n",
       "    <tr>\n",
       "      <th>5</th>\n",
       "      <td>0.014099</td>\n",
       "    </tr>\n",
       "    <tr>\n",
       "      <th>6</th>\n",
       "      <td>0.208634</td>\n",
       "    </tr>\n",
       "    <tr>\n",
       "      <th>7</th>\n",
       "      <td>0.012969</td>\n",
       "    </tr>\n",
       "    <tr>\n",
       "      <th>8</th>\n",
       "      <td>0.002235</td>\n",
       "    </tr>\n",
       "    <tr>\n",
       "      <th>9</th>\n",
       "      <td>0.001273</td>\n",
       "    </tr>\n",
       "    <tr>\n",
       "      <th>10</th>\n",
       "      <td>0.149765</td>\n",
       "    </tr>\n",
       "    <tr>\n",
       "      <th>11</th>\n",
       "      <td>0.000413</td>\n",
       "    </tr>\n",
       "    <tr>\n",
       "      <th>12</th>\n",
       "      <td>0.035797</td>\n",
       "    </tr>\n",
       "    <tr>\n",
       "      <th>13</th>\n",
       "      <td>0.027171</td>\n",
       "    </tr>\n",
       "    <tr>\n",
       "      <th>14</th>\n",
       "      <td>0.032478</td>\n",
       "    </tr>\n",
       "    <tr>\n",
       "      <th>15</th>\n",
       "      <td>0.001734</td>\n",
       "    </tr>\n",
       "    <tr>\n",
       "      <th>16</th>\n",
       "      <td>0.012210</td>\n",
       "    </tr>\n",
       "    <tr>\n",
       "      <th>17</th>\n",
       "      <td>0.232523</td>\n",
       "    </tr>\n",
       "    <tr>\n",
       "      <th>18</th>\n",
       "      <td>0.000103</td>\n",
       "    </tr>\n",
       "    <tr>\n",
       "      <th>19</th>\n",
       "      <td>0.002690</td>\n",
       "    </tr>\n",
       "    <tr>\n",
       "      <th>20</th>\n",
       "      <td>0.003157</td>\n",
       "    </tr>\n",
       "    <tr>\n",
       "      <th>21</th>\n",
       "      <td>0.027389</td>\n",
       "    </tr>\n",
       "    <tr>\n",
       "      <th>22</th>\n",
       "      <td>0.000211</td>\n",
       "    </tr>\n",
       "    <tr>\n",
       "      <th>23</th>\n",
       "      <td>0.000208</td>\n",
       "    </tr>\n",
       "    <tr>\n",
       "      <th>24</th>\n",
       "      <td>0.007247</td>\n",
       "    </tr>\n",
       "    <tr>\n",
       "      <th>25</th>\n",
       "      <td>0.133557</td>\n",
       "    </tr>\n",
       "    <tr>\n",
       "      <th>26</th>\n",
       "      <td>0.004702</td>\n",
       "    </tr>\n",
       "  </tbody>\n",
       "</table>\n",
       "</div>"
      ],
      "text/plain": [
       "           0\n",
       "0   0.004793\n",
       "1   0.012229\n",
       "2   0.008488\n",
       "3   0.032644\n",
       "4   0.031280\n",
       "5   0.014099\n",
       "6   0.208634\n",
       "7   0.012969\n",
       "8   0.002235\n",
       "9   0.001273\n",
       "10  0.149765\n",
       "11  0.000413\n",
       "12  0.035797\n",
       "13  0.027171\n",
       "14  0.032478\n",
       "15  0.001734\n",
       "16  0.012210\n",
       "17  0.232523\n",
       "18  0.000103\n",
       "19  0.002690\n",
       "20  0.003157\n",
       "21  0.027389\n",
       "22  0.000211\n",
       "23  0.000208\n",
       "24  0.007247\n",
       "25  0.133557\n",
       "26  0.004702"
      ]
     },
     "execution_count": 60,
     "metadata": {},
     "output_type": "execute_result"
    }
   ],
   "source": [
    "df_test=pd.DataFrame(pred_test)\n",
    "df_test"
   ]
  },
  {
   "cell_type": "code",
   "execution_count": 61,
   "id": "015503b2",
   "metadata": {},
   "outputs": [
    {
     "data": {
      "image/png": "[encoded data removed]",
      "text/plain": [
       "<Figure size 432x288 with 1 Axes>"
      ]
     },
     "metadata": {
      "needs_background": "light"
     },
     "output_type": "display_data"
    }
   ],
   "source": [
    "plt.plot(df_test,color=\"r\")\n",
    "plt.grid()"
   ]
  },
  {
   "cell_type": "code",
   "execution_count": null,
   "id": "44a4e62f",
   "metadata": {},
   "outputs": [],
   "source": []
  },
  {
   "cell_type": "code",
   "execution_count": null,
   "id": "2da67e5e",
   "metadata": {},
   "outputs": [],
   "source": []
  }
 ],
 "metadata": {
  "kernelspec": {
   "display_name": "Python 3 (ipykernel)",
   "language": "python",
   "name": "python3"
  },
  "language_info": {
   "codemirror_mode": {
    "name": "ipython",
    "version": 3
   },
   "file_extension": ".py",
   "mimetype": "text/x-python",
   "name": "python",
   "nbconvert_exporter": "python",
   "pygments_lexer": "ipython3",
   "version": "3.8.13"
  }
 },
 "nbformat": 4,
 "nbformat_minor": 5
}
